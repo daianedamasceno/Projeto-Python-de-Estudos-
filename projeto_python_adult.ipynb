{
 "cells": [
  {
   "cell_type": "markdown",
   "metadata": {},
   "source": [
    "## Análise de Dados Demográficos "
   ]
  },
  {
   "cell_type": "code",
   "execution_count": 54,
   "metadata": {},
   "outputs": [],
   "source": [
    "import pandas as pd\n",
    "import numpy as np"
   ]
  },
  {
   "cell_type": "markdown",
   "metadata": {},
   "source": [
    "### Lendo o caminho"
   ]
  },
  {
   "cell_type": "code",
   "execution_count": 55,
   "metadata": {},
   "outputs": [],
   "source": [
    "df = pd.read_csv(\"C:\\\\Users\\\\daiih\\OneDrive\\\\Área de Trabalho\\\\Ambiente\\\\projeto_python\\\\adult.csv\")"
   ]
  },
  {
   "cell_type": "markdown",
   "metadata": {},
   "source": [
    "### Colocando as palavras da base em letra minúscula "
   ]
  },
  {
   "cell_type": "code",
   "execution_count": 56,
   "metadata": {},
   "outputs": [
    {
     "name": "stderr",
     "output_type": "stream",
     "text": [
      "C:\\Users\\daiih\\AppData\\Local\\Temp\\ipykernel_10548\\2340421553.py:1: FutureWarning: DataFrame.applymap has been deprecated. Use DataFrame.map instead.\n",
      "  df = df.applymap(lambda x: x.lower() if isinstance(x, str) else x)\n"
     ]
    }
   ],
   "source": [
    "df = df.applymap(lambda x: x.lower() if isinstance(x, str) else x)"
   ]
  },
  {
   "cell_type": "code",
   "execution_count": 57,
   "metadata": {},
   "outputs": [
    {
     "data": {
      "text/html": [
       "<div>\n",
       "<style scoped>\n",
       "    .dataframe tbody tr th:only-of-type {\n",
       "        vertical-align: middle;\n",
       "    }\n",
       "\n",
       "    .dataframe tbody tr th {\n",
       "        vertical-align: top;\n",
       "    }\n",
       "\n",
       "    .dataframe thead th {\n",
       "        text-align: right;\n",
       "    }\n",
       "</style>\n",
       "<table border=\"1\" class=\"dataframe\">\n",
       "  <thead>\n",
       "    <tr style=\"text-align: right;\">\n",
       "      <th></th>\n",
       "      <th>age</th>\n",
       "      <th>workclass</th>\n",
       "      <th>fnlwgt</th>\n",
       "      <th>education</th>\n",
       "      <th>education.num</th>\n",
       "      <th>marital.status</th>\n",
       "      <th>occupation</th>\n",
       "      <th>relationship</th>\n",
       "      <th>race</th>\n",
       "      <th>sex</th>\n",
       "      <th>capital.gain</th>\n",
       "      <th>capital.loss</th>\n",
       "      <th>hours.per.week</th>\n",
       "      <th>native.country</th>\n",
       "      <th>income</th>\n",
       "    </tr>\n",
       "  </thead>\n",
       "  <tbody>\n",
       "    <tr>\n",
       "      <th>0</th>\n",
       "      <td>90</td>\n",
       "      <td>?</td>\n",
       "      <td>77053</td>\n",
       "      <td>hs-grad</td>\n",
       "      <td>9</td>\n",
       "      <td>widowed</td>\n",
       "      <td>?</td>\n",
       "      <td>not-in-family</td>\n",
       "      <td>white</td>\n",
       "      <td>female</td>\n",
       "      <td>0</td>\n",
       "      <td>4356</td>\n",
       "      <td>40</td>\n",
       "      <td>united-states</td>\n",
       "      <td>&lt;=50k</td>\n",
       "    </tr>\n",
       "    <tr>\n",
       "      <th>1</th>\n",
       "      <td>82</td>\n",
       "      <td>private</td>\n",
       "      <td>132870</td>\n",
       "      <td>hs-grad</td>\n",
       "      <td>9</td>\n",
       "      <td>widowed</td>\n",
       "      <td>exec-managerial</td>\n",
       "      <td>not-in-family</td>\n",
       "      <td>white</td>\n",
       "      <td>female</td>\n",
       "      <td>0</td>\n",
       "      <td>4356</td>\n",
       "      <td>18</td>\n",
       "      <td>united-states</td>\n",
       "      <td>&lt;=50k</td>\n",
       "    </tr>\n",
       "    <tr>\n",
       "      <th>2</th>\n",
       "      <td>66</td>\n",
       "      <td>?</td>\n",
       "      <td>186061</td>\n",
       "      <td>some-college</td>\n",
       "      <td>10</td>\n",
       "      <td>widowed</td>\n",
       "      <td>?</td>\n",
       "      <td>unmarried</td>\n",
       "      <td>black</td>\n",
       "      <td>female</td>\n",
       "      <td>0</td>\n",
       "      <td>4356</td>\n",
       "      <td>40</td>\n",
       "      <td>united-states</td>\n",
       "      <td>&lt;=50k</td>\n",
       "    </tr>\n",
       "    <tr>\n",
       "      <th>3</th>\n",
       "      <td>54</td>\n",
       "      <td>private</td>\n",
       "      <td>140359</td>\n",
       "      <td>7th-8th</td>\n",
       "      <td>4</td>\n",
       "      <td>divorced</td>\n",
       "      <td>machine-op-inspct</td>\n",
       "      <td>unmarried</td>\n",
       "      <td>white</td>\n",
       "      <td>female</td>\n",
       "      <td>0</td>\n",
       "      <td>3900</td>\n",
       "      <td>40</td>\n",
       "      <td>united-states</td>\n",
       "      <td>&lt;=50k</td>\n",
       "    </tr>\n",
       "    <tr>\n",
       "      <th>4</th>\n",
       "      <td>41</td>\n",
       "      <td>private</td>\n",
       "      <td>264663</td>\n",
       "      <td>some-college</td>\n",
       "      <td>10</td>\n",
       "      <td>separated</td>\n",
       "      <td>prof-specialty</td>\n",
       "      <td>own-child</td>\n",
       "      <td>white</td>\n",
       "      <td>female</td>\n",
       "      <td>0</td>\n",
       "      <td>3900</td>\n",
       "      <td>40</td>\n",
       "      <td>united-states</td>\n",
       "      <td>&lt;=50k</td>\n",
       "    </tr>\n",
       "    <tr>\n",
       "      <th>5</th>\n",
       "      <td>34</td>\n",
       "      <td>private</td>\n",
       "      <td>216864</td>\n",
       "      <td>hs-grad</td>\n",
       "      <td>9</td>\n",
       "      <td>divorced</td>\n",
       "      <td>other-service</td>\n",
       "      <td>unmarried</td>\n",
       "      <td>white</td>\n",
       "      <td>female</td>\n",
       "      <td>0</td>\n",
       "      <td>3770</td>\n",
       "      <td>45</td>\n",
       "      <td>united-states</td>\n",
       "      <td>&lt;=50k</td>\n",
       "    </tr>\n",
       "    <tr>\n",
       "      <th>6</th>\n",
       "      <td>38</td>\n",
       "      <td>private</td>\n",
       "      <td>150601</td>\n",
       "      <td>10th</td>\n",
       "      <td>6</td>\n",
       "      <td>separated</td>\n",
       "      <td>adm-clerical</td>\n",
       "      <td>unmarried</td>\n",
       "      <td>white</td>\n",
       "      <td>male</td>\n",
       "      <td>0</td>\n",
       "      <td>3770</td>\n",
       "      <td>40</td>\n",
       "      <td>united-states</td>\n",
       "      <td>&lt;=50k</td>\n",
       "    </tr>\n",
       "    <tr>\n",
       "      <th>7</th>\n",
       "      <td>74</td>\n",
       "      <td>state-gov</td>\n",
       "      <td>88638</td>\n",
       "      <td>doctorate</td>\n",
       "      <td>16</td>\n",
       "      <td>never-married</td>\n",
       "      <td>prof-specialty</td>\n",
       "      <td>other-relative</td>\n",
       "      <td>white</td>\n",
       "      <td>female</td>\n",
       "      <td>0</td>\n",
       "      <td>3683</td>\n",
       "      <td>20</td>\n",
       "      <td>united-states</td>\n",
       "      <td>&gt;50k</td>\n",
       "    </tr>\n",
       "    <tr>\n",
       "      <th>8</th>\n",
       "      <td>68</td>\n",
       "      <td>federal-gov</td>\n",
       "      <td>422013</td>\n",
       "      <td>hs-grad</td>\n",
       "      <td>9</td>\n",
       "      <td>divorced</td>\n",
       "      <td>prof-specialty</td>\n",
       "      <td>not-in-family</td>\n",
       "      <td>white</td>\n",
       "      <td>female</td>\n",
       "      <td>0</td>\n",
       "      <td>3683</td>\n",
       "      <td>40</td>\n",
       "      <td>united-states</td>\n",
       "      <td>&lt;=50k</td>\n",
       "    </tr>\n",
       "    <tr>\n",
       "      <th>9</th>\n",
       "      <td>41</td>\n",
       "      <td>private</td>\n",
       "      <td>70037</td>\n",
       "      <td>some-college</td>\n",
       "      <td>10</td>\n",
       "      <td>never-married</td>\n",
       "      <td>craft-repair</td>\n",
       "      <td>unmarried</td>\n",
       "      <td>white</td>\n",
       "      <td>male</td>\n",
       "      <td>0</td>\n",
       "      <td>3004</td>\n",
       "      <td>60</td>\n",
       "      <td>?</td>\n",
       "      <td>&gt;50k</td>\n",
       "    </tr>\n",
       "    <tr>\n",
       "      <th>10</th>\n",
       "      <td>45</td>\n",
       "      <td>private</td>\n",
       "      <td>172274</td>\n",
       "      <td>doctorate</td>\n",
       "      <td>16</td>\n",
       "      <td>divorced</td>\n",
       "      <td>prof-specialty</td>\n",
       "      <td>unmarried</td>\n",
       "      <td>black</td>\n",
       "      <td>female</td>\n",
       "      <td>0</td>\n",
       "      <td>3004</td>\n",
       "      <td>35</td>\n",
       "      <td>united-states</td>\n",
       "      <td>&gt;50k</td>\n",
       "    </tr>\n",
       "    <tr>\n",
       "      <th>11</th>\n",
       "      <td>38</td>\n",
       "      <td>self-emp-not-inc</td>\n",
       "      <td>164526</td>\n",
       "      <td>prof-school</td>\n",
       "      <td>15</td>\n",
       "      <td>never-married</td>\n",
       "      <td>prof-specialty</td>\n",
       "      <td>not-in-family</td>\n",
       "      <td>white</td>\n",
       "      <td>male</td>\n",
       "      <td>0</td>\n",
       "      <td>2824</td>\n",
       "      <td>45</td>\n",
       "      <td>united-states</td>\n",
       "      <td>&gt;50k</td>\n",
       "    </tr>\n",
       "    <tr>\n",
       "      <th>12</th>\n",
       "      <td>52</td>\n",
       "      <td>private</td>\n",
       "      <td>129177</td>\n",
       "      <td>bachelors</td>\n",
       "      <td>13</td>\n",
       "      <td>widowed</td>\n",
       "      <td>other-service</td>\n",
       "      <td>not-in-family</td>\n",
       "      <td>white</td>\n",
       "      <td>female</td>\n",
       "      <td>0</td>\n",
       "      <td>2824</td>\n",
       "      <td>20</td>\n",
       "      <td>united-states</td>\n",
       "      <td>&gt;50k</td>\n",
       "    </tr>\n",
       "    <tr>\n",
       "      <th>13</th>\n",
       "      <td>32</td>\n",
       "      <td>private</td>\n",
       "      <td>136204</td>\n",
       "      <td>masters</td>\n",
       "      <td>14</td>\n",
       "      <td>separated</td>\n",
       "      <td>exec-managerial</td>\n",
       "      <td>not-in-family</td>\n",
       "      <td>white</td>\n",
       "      <td>male</td>\n",
       "      <td>0</td>\n",
       "      <td>2824</td>\n",
       "      <td>55</td>\n",
       "      <td>united-states</td>\n",
       "      <td>&gt;50k</td>\n",
       "    </tr>\n",
       "    <tr>\n",
       "      <th>14</th>\n",
       "      <td>51</td>\n",
       "      <td>?</td>\n",
       "      <td>172175</td>\n",
       "      <td>doctorate</td>\n",
       "      <td>16</td>\n",
       "      <td>never-married</td>\n",
       "      <td>?</td>\n",
       "      <td>not-in-family</td>\n",
       "      <td>white</td>\n",
       "      <td>male</td>\n",
       "      <td>0</td>\n",
       "      <td>2824</td>\n",
       "      <td>40</td>\n",
       "      <td>united-states</td>\n",
       "      <td>&gt;50k</td>\n",
       "    </tr>\n",
       "  </tbody>\n",
       "</table>\n",
       "</div>"
      ],
      "text/plain": [
       "    age         workclass  fnlwgt     education  education.num marital.status  \\\n",
       "0    90                 ?   77053       hs-grad              9        widowed   \n",
       "1    82           private  132870       hs-grad              9        widowed   \n",
       "2    66                 ?  186061  some-college             10        widowed   \n",
       "3    54           private  140359       7th-8th              4       divorced   \n",
       "4    41           private  264663  some-college             10      separated   \n",
       "5    34           private  216864       hs-grad              9       divorced   \n",
       "6    38           private  150601          10th              6      separated   \n",
       "7    74         state-gov   88638     doctorate             16  never-married   \n",
       "8    68       federal-gov  422013       hs-grad              9       divorced   \n",
       "9    41           private   70037  some-college             10  never-married   \n",
       "10   45           private  172274     doctorate             16       divorced   \n",
       "11   38  self-emp-not-inc  164526   prof-school             15  never-married   \n",
       "12   52           private  129177     bachelors             13        widowed   \n",
       "13   32           private  136204       masters             14      separated   \n",
       "14   51                 ?  172175     doctorate             16  never-married   \n",
       "\n",
       "           occupation    relationship   race     sex  capital.gain  \\\n",
       "0                   ?   not-in-family  white  female             0   \n",
       "1     exec-managerial   not-in-family  white  female             0   \n",
       "2                   ?       unmarried  black  female             0   \n",
       "3   machine-op-inspct       unmarried  white  female             0   \n",
       "4      prof-specialty       own-child  white  female             0   \n",
       "5       other-service       unmarried  white  female             0   \n",
       "6        adm-clerical       unmarried  white    male             0   \n",
       "7      prof-specialty  other-relative  white  female             0   \n",
       "8      prof-specialty   not-in-family  white  female             0   \n",
       "9        craft-repair       unmarried  white    male             0   \n",
       "10     prof-specialty       unmarried  black  female             0   \n",
       "11     prof-specialty   not-in-family  white    male             0   \n",
       "12      other-service   not-in-family  white  female             0   \n",
       "13    exec-managerial   not-in-family  white    male             0   \n",
       "14                  ?   not-in-family  white    male             0   \n",
       "\n",
       "    capital.loss  hours.per.week native.country income  \n",
       "0           4356              40  united-states  <=50k  \n",
       "1           4356              18  united-states  <=50k  \n",
       "2           4356              40  united-states  <=50k  \n",
       "3           3900              40  united-states  <=50k  \n",
       "4           3900              40  united-states  <=50k  \n",
       "5           3770              45  united-states  <=50k  \n",
       "6           3770              40  united-states  <=50k  \n",
       "7           3683              20  united-states   >50k  \n",
       "8           3683              40  united-states  <=50k  \n",
       "9           3004              60              ?   >50k  \n",
       "10          3004              35  united-states   >50k  \n",
       "11          2824              45  united-states   >50k  \n",
       "12          2824              20  united-states   >50k  \n",
       "13          2824              55  united-states   >50k  \n",
       "14          2824              40  united-states   >50k  "
      ]
     },
     "execution_count": 57,
     "metadata": {},
     "output_type": "execute_result"
    }
   ],
   "source": [
    "df.head(15)"
   ]
  },
  {
   "cell_type": "code",
   "execution_count": 58,
   "metadata": {},
   "outputs": [
    {
     "data": {
      "text/plain": [
       "array(['united-states', '?', 'mexico', 'greece', 'vietnam', 'china',\n",
       "       'taiwan', 'india', 'philippines', 'trinadad&tobago', 'canada',\n",
       "       'south', 'holand-netherlands', 'puerto-rico', 'poland', 'iran',\n",
       "       'england', 'germany', 'italy', 'japan', 'hong', 'honduras', 'cuba',\n",
       "       'ireland', 'cambodia', 'peru', 'nicaragua', 'dominican-republic',\n",
       "       'haiti', 'el-salvador', 'hungary', 'columbia', 'guatemala',\n",
       "       'jamaica', 'ecuador', 'france', 'yugoslavia', 'scotland',\n",
       "       'portugal', 'laos', 'thailand', 'outlying-us(guam-usvi-etc)'],\n",
       "      dtype=object)"
      ]
     },
     "execution_count": 58,
     "metadata": {},
     "output_type": "execute_result"
    }
   ],
   "source": [
    "df['native.country'].unique()"
   ]
  },
  {
   "cell_type": "markdown",
   "metadata": {},
   "source": [
    "## Porcentagem de divorciados nos EUA"
   ]
  },
  {
   "cell_type": "code",
   "execution_count": 59,
   "metadata": {},
   "outputs": [],
   "source": [
    "df_divorced = df[df['marital.status']== \"divorced\"]"
   ]
  },
  {
   "cell_type": "code",
   "execution_count": 60,
   "metadata": {},
   "outputs": [
    {
     "data": {
      "text/plain": [
       "(4443, 15)"
      ]
     },
     "execution_count": 60,
     "metadata": {},
     "output_type": "execute_result"
    }
   ],
   "source": [
    "df_divorced.shape"
   ]
  },
  {
   "cell_type": "code",
   "execution_count": 61,
   "metadata": {},
   "outputs": [],
   "source": [
    "df_divorced_eua = df_divorced[df_divorced['native.country']==\"united-states\"]"
   ]
  },
  {
   "cell_type": "code",
   "execution_count": 62,
   "metadata": {},
   "outputs": [
    {
     "data": {
      "text/plain": [
       "(4162, 15)"
      ]
     },
     "execution_count": 62,
     "metadata": {},
     "output_type": "execute_result"
    }
   ],
   "source": [
    "df_divorced_eua.shape"
   ]
  },
  {
   "cell_type": "code",
   "execution_count": 63,
   "metadata": {},
   "outputs": [],
   "source": [
    "geral = 4443"
   ]
  },
  {
   "cell_type": "code",
   "execution_count": 64,
   "metadata": {},
   "outputs": [],
   "source": [
    "total_eua = 4162"
   ]
  },
  {
   "cell_type": "code",
   "execution_count": 65,
   "metadata": {},
   "outputs": [
    {
     "data": {
      "text/plain": [
       "94"
      ]
     },
     "execution_count": 65,
     "metadata": {},
     "output_type": "execute_result"
    }
   ],
   "source": [
    "round(total_eua / geral * 100)"
   ]
  },
  {
   "cell_type": "markdown",
   "metadata": {},
   "source": [
    "## Relação de brancos e negros divorciados."
   ]
  },
  {
   "cell_type": "code",
   "execution_count": 66,
   "metadata": {},
   "outputs": [],
   "source": [
    "df_divorce_race = df_divorced['race']"
   ]
  },
  {
   "cell_type": "code",
   "execution_count": 67,
   "metadata": {},
   "outputs": [
    {
     "data": {
      "text/plain": [
       "race\n",
       "white                 3797\n",
       "black                  485\n",
       "asian-pac-islander      75\n",
       "amer-indian-eskimo      60\n",
       "other                   26\n",
       "Name: count, dtype: int64"
      ]
     },
     "execution_count": 67,
     "metadata": {},
     "output_type": "execute_result"
    }
   ],
   "source": [
    "df_divorce_race.value_counts()"
   ]
  },
  {
   "cell_type": "markdown",
   "metadata": {},
   "source": [
    "## Quantas mulheres estão divorciadas?"
   ]
  },
  {
   "cell_type": "code",
   "execution_count": 68,
   "metadata": {},
   "outputs": [],
   "source": [
    "df_divorced_sex = df_divorced['sex']"
   ]
  },
  {
   "cell_type": "code",
   "execution_count": 69,
   "metadata": {},
   "outputs": [
    {
     "data": {
      "text/plain": [
       "sex\n",
       "female    2672\n",
       "male      1771\n",
       "Name: count, dtype: int64"
      ]
     },
     "execution_count": 69,
     "metadata": {},
     "output_type": "execute_result"
    }
   ],
   "source": [
    "df_divorced_sex.value_counts() "
   ]
  },
  {
   "cell_type": "code",
   "execution_count": 70,
   "metadata": {},
   "outputs": [],
   "source": [
    "total = 4443\n",
    "female = 2672\n",
    "male = 1771"
   ]
  },
  {
   "cell_type": "code",
   "execution_count": 71,
   "metadata": {},
   "outputs": [
    {
     "data": {
      "text/plain": [
       "60"
      ]
     },
     "execution_count": 71,
     "metadata": {},
     "output_type": "execute_result"
    }
   ],
   "source": [
    "round(female / total * 100)"
   ]
  },
  {
   "cell_type": "code",
   "execution_count": 72,
   "metadata": {},
   "outputs": [
    {
     "data": {
      "text/plain": [
       "40"
      ]
     },
     "execution_count": 72,
     "metadata": {},
     "output_type": "execute_result"
    }
   ],
   "source": [
    "round(male / total * 100)"
   ]
  },
  {
   "cell_type": "markdown",
   "metadata": {},
   "source": [
    "## Qual país com maior porcentagem de mulheres divorciadas?\n"
   ]
  },
  {
   "cell_type": "code",
   "execution_count": 73,
   "metadata": {},
   "outputs": [],
   "source": [
    "df_divorced_female = df_divorced[df_divorced['sex']==\"female\"]"
   ]
  },
  {
   "cell_type": "code",
   "execution_count": 74,
   "metadata": {},
   "outputs": [],
   "source": [
    "df_divorced_female_country = df_divorced_female['native.country'].value_counts()\n"
   ]
  },
  {
   "cell_type": "code",
   "execution_count": 75,
   "metadata": {},
   "outputs": [],
   "source": [
    "total_divorced_female = 2672"
   ]
  },
  {
   "cell_type": "code",
   "execution_count": 76,
   "metadata": {},
   "outputs": [
    {
     "data": {
      "text/plain": [
       "native.country\n",
       "united-states                 2493\n",
       "?                               28\n",
       "germany                         20\n",
       "england                         13\n",
       "cuba                            12\n",
       "mexico                          11\n",
       "canada                          11\n",
       "philippines                      9\n",
       "puerto-rico                      8\n",
       "south                            6\n",
       "dominican-republic               6\n",
       "japan                            6\n",
       "columbia                         4\n",
       "france                           4\n",
       "poland                           3\n",
       "jamaica                          3\n",
       "el-salvador                      3\n",
       "vietnam                          3\n",
       "italy                            3\n",
       "outlying-us(guam-usvi-etc)       2\n",
       "trinadad&tobago                  2\n",
       "haiti                            2\n",
       "china                            2\n",
       "iran                             2\n",
       "guatemala                        2\n",
       "ecuador                          2\n",
       "peru                             2\n",
       "ireland                          2\n",
       "honduras                         2\n",
       "thailand                         1\n",
       "hungary                          1\n",
       "portugal                         1\n",
       "scotland                         1\n",
       "yugoslavia                       1\n",
       "taiwan                           1\n",
       "Name: count, dtype: int64"
      ]
     },
     "execution_count": 76,
     "metadata": {},
     "output_type": "execute_result"
    }
   ],
   "source": [
    "df_divorced_female_country\n"
   ]
  },
  {
   "cell_type": "code",
   "execution_count": 77,
   "metadata": {},
   "outputs": [
    {
     "data": {
      "text/plain": [
       "native.country\n",
       "united-states                 93.0\n",
       "?                              1.0\n",
       "germany                        1.0\n",
       "england                        0.0\n",
       "cuba                           0.0\n",
       "mexico                         0.0\n",
       "canada                         0.0\n",
       "philippines                    0.0\n",
       "puerto-rico                    0.0\n",
       "south                          0.0\n",
       "dominican-republic             0.0\n",
       "japan                          0.0\n",
       "columbia                       0.0\n",
       "france                         0.0\n",
       "poland                         0.0\n",
       "jamaica                        0.0\n",
       "el-salvador                    0.0\n",
       "vietnam                        0.0\n",
       "italy                          0.0\n",
       "outlying-us(guam-usvi-etc)     0.0\n",
       "trinadad&tobago                0.0\n",
       "haiti                          0.0\n",
       "china                          0.0\n",
       "iran                           0.0\n",
       "guatemala                      0.0\n",
       "ecuador                        0.0\n",
       "peru                           0.0\n",
       "ireland                        0.0\n",
       "honduras                       0.0\n",
       "thailand                       0.0\n",
       "hungary                        0.0\n",
       "portugal                       0.0\n",
       "scotland                       0.0\n",
       "yugoslavia                     0.0\n",
       "taiwan                         0.0\n",
       "Name: count, dtype: float64"
      ]
     },
     "execution_count": 77,
     "metadata": {},
     "output_type": "execute_result"
    }
   ],
   "source": [
    "round(df_divorced_female_country / total_divorced_female * 100)\n"
   ]
  },
  {
   "cell_type": "markdown",
   "metadata": {},
   "source": [
    "## Qual a média de idade dos divorciados? (Estatística Descritiva)"
   ]
  },
  {
   "cell_type": "code",
   "execution_count": 78,
   "metadata": {},
   "outputs": [
    {
     "data": {
      "text/plain": [
       "count    4443.000000\n",
       "mean       43.041639\n",
       "std        10.400396\n",
       "min        18.000000\n",
       "25%        35.000000\n",
       "50%        42.000000\n",
       "75%        50.000000\n",
       "max        90.000000\n",
       "Name: age, dtype: float64"
      ]
     },
     "execution_count": 78,
     "metadata": {},
     "output_type": "execute_result"
    }
   ],
   "source": [
    "df_divorced['age'].describe()"
   ]
  },
  {
   "cell_type": "markdown",
   "metadata": {},
   "source": [
    "## Quantidade de divorciados por cada classe de trabalho ?"
   ]
  },
  {
   "cell_type": "code",
   "execution_count": 79,
   "metadata": {},
   "outputs": [],
   "source": [
    "df_divorced_education = df_divorced['education']"
   ]
  },
  {
   "cell_type": "code",
   "execution_count": 80,
   "metadata": {},
   "outputs": [],
   "source": [
    "df_divorced_education_total = 4443"
   ]
  },
  {
   "cell_type": "code",
   "execution_count": 81,
   "metadata": {},
   "outputs": [
    {
     "data": {
      "text/plain": [
       "education\n",
       "hs-grad         1613\n",
       "some-college    1069\n",
       "bachelors        546\n",
       "assoc-voc        234\n",
       "masters          233\n",
       "assoc-acdm       203\n",
       "11th             130\n",
       "10th             120\n",
       "7th-8th           73\n",
       "9th               64\n",
       "prof-school       55\n",
       "12th              39\n",
       "doctorate         33\n",
       "5th-6th           20\n",
       "1st-4th           10\n",
       "preschool          1\n",
       "Name: count, dtype: int64"
      ]
     },
     "execution_count": 81,
     "metadata": {},
     "output_type": "execute_result"
    }
   ],
   "source": [
    "df_divorced_education.value_counts()\n"
   ]
  },
  {
   "cell_type": "markdown",
   "metadata": {},
   "source": [
    "## Quantidade de pessoas que nunca casaram por raça ?"
   ]
  },
  {
   "cell_type": "code",
   "execution_count": 82,
   "metadata": {},
   "outputs": [],
   "source": [
    "df_never_married = df[df['marital.status']=='never-married']"
   ]
  },
  {
   "cell_type": "code",
   "execution_count": 83,
   "metadata": {},
   "outputs": [],
   "source": [
    "df_never_married_race = df_never_married['race'].value_counts()"
   ]
  },
  {
   "cell_type": "code",
   "execution_count": 84,
   "metadata": {},
   "outputs": [
    {
     "data": {
      "text/plain": [
       "race\n",
       "white                 8757\n",
       "black                 1346\n",
       "asian-pac-islander     372\n",
       "other                  105\n",
       "amer-indian-eskimo     103\n",
       "Name: count, dtype: int64"
      ]
     },
     "execution_count": 84,
     "metadata": {},
     "output_type": "execute_result"
    }
   ],
   "source": [
    "df_never_married_race"
   ]
  },
  {
   "cell_type": "markdown",
   "metadata": {},
   "source": [
    "## Quantidade de mulheres e homens negros que nunca casaram "
   ]
  },
  {
   "cell_type": "code",
   "execution_count": 85,
   "metadata": {},
   "outputs": [],
   "source": [
    "df_never_married_black = df_never_married[df_never_married['race']=='black']"
   ]
  },
  {
   "cell_type": "code",
   "execution_count": 86,
   "metadata": {},
   "outputs": [],
   "source": [
    "df_never_married_black_sex = df_never_married_black['sex'].value_counts()\n"
   ]
  },
  {
   "cell_type": "code",
   "execution_count": 87,
   "metadata": {},
   "outputs": [
    {
     "data": {
      "text/plain": [
       "sex\n",
       "female    723\n",
       "male      623\n",
       "Name: count, dtype: int64"
      ]
     },
     "execution_count": 87,
     "metadata": {},
     "output_type": "execute_result"
    }
   ],
   "source": [
    "df_never_married_black_sex"
   ]
  },
  {
   "cell_type": "markdown",
   "metadata": {},
   "source": [
    "## Existem mais mulheres ou homens viuvos ?"
   ]
  },
  {
   "cell_type": "code",
   "execution_count": 88,
   "metadata": {},
   "outputs": [],
   "source": [
    "df_widowed = df[df['marital.status']=='widowed']"
   ]
  },
  {
   "cell_type": "code",
   "execution_count": 89,
   "metadata": {},
   "outputs": [
    {
     "data": {
      "text/plain": [
       "sex\n",
       "female    825\n",
       "male      168\n",
       "Name: count, dtype: int64"
      ]
     },
     "execution_count": 89,
     "metadata": {},
     "output_type": "execute_result"
    }
   ],
   "source": [
    "df_widowed['sex'].value_counts()"
   ]
  },
  {
   "cell_type": "markdown",
   "metadata": {},
   "source": [
    "## Qual a quantidade de viúvos nos EUA ? "
   ]
  },
  {
   "cell_type": "code",
   "execution_count": 90,
   "metadata": {},
   "outputs": [],
   "source": [
    "df_widowed_eua = df_widowed['native.country'].value_counts()"
   ]
  },
  {
   "cell_type": "code",
   "execution_count": 91,
   "metadata": {},
   "outputs": [
    {
     "data": {
      "text/plain": [
       "native.country\n",
       "united-states                 902\n",
       "?                              14\n",
       "mexico                          9\n",
       "germany                         6\n",
       "england                         4\n",
       "philippines                     4\n",
       "south                           4\n",
       "poland                          4\n",
       "el-salvador                     4\n",
       "puerto-rico                     4\n",
       "italy                           4\n",
       "cuba                            4\n",
       "canada                          3\n",
       "columbia                        3\n",
       "india                           2\n",
       "nicaragua                       2\n",
       "hungary                         2\n",
       "iran                            2\n",
       "portugal                        2\n",
       "guatemala                       2\n",
       "thailand                        2\n",
       "haiti                           2\n",
       "japan                           1\n",
       "jamaica                         1\n",
       "greece                          1\n",
       "china                           1\n",
       "ecuador                         1\n",
       "dominican-republic              1\n",
       "france                          1\n",
       "outlying-us(guam-usvi-etc)      1\n",
       "Name: count, dtype: int64"
      ]
     },
     "execution_count": 91,
     "metadata": {},
     "output_type": "execute_result"
    }
   ],
   "source": [
    "df_widowed_eua"
   ]
  },
  {
   "cell_type": "markdown",
   "metadata": {},
   "source": [
    "## Quantidade de viúvos agregados por educação?"
   ]
  },
  {
   "cell_type": "code",
   "execution_count": 92,
   "metadata": {},
   "outputs": [
    {
     "data": {
      "text/plain": [
       "0             hs-grad\n",
       "1             hs-grad\n",
       "2        some-college\n",
       "12          bachelors\n",
       "31               10th\n",
       "             ...     \n",
       "32437            11th\n",
       "32456         hs-grad\n",
       "32469         hs-grad\n",
       "32473         hs-grad\n",
       "32559         hs-grad\n",
       "Name: education, Length: 993, dtype: object"
      ]
     },
     "execution_count": 92,
     "metadata": {},
     "output_type": "execute_result"
    }
   ],
   "source": [
    "df_widowed['education']"
   ]
  },
  {
   "cell_type": "code",
   "execution_count": 93,
   "metadata": {},
   "outputs": [
    {
     "data": {
      "text/html": [
       "<div>\n",
       "<style scoped>\n",
       "    .dataframe tbody tr th:only-of-type {\n",
       "        vertical-align: middle;\n",
       "    }\n",
       "\n",
       "    .dataframe tbody tr th {\n",
       "        vertical-align: top;\n",
       "    }\n",
       "\n",
       "    .dataframe thead th {\n",
       "        text-align: right;\n",
       "    }\n",
       "</style>\n",
       "<table border=\"1\" class=\"dataframe\">\n",
       "  <thead>\n",
       "    <tr style=\"text-align: right;\">\n",
       "      <th></th>\n",
       "      <th></th>\n",
       "      <th>education</th>\n",
       "    </tr>\n",
       "    <tr>\n",
       "      <th>marital.status</th>\n",
       "      <th>education</th>\n",
       "      <th></th>\n",
       "    </tr>\n",
       "  </thead>\n",
       "  <tbody>\n",
       "    <tr>\n",
       "      <th rowspan=\"12\" valign=\"top\">married-spouse-absent</th>\n",
       "      <th>11th</th>\n",
       "      <td>19</td>\n",
       "    </tr>\n",
       "    <tr>\n",
       "      <th>masters</th>\n",
       "      <td>17</td>\n",
       "    </tr>\n",
       "    <tr>\n",
       "      <th>10th</th>\n",
       "      <td>15</td>\n",
       "    </tr>\n",
       "    <tr>\n",
       "      <th>7th-8th</th>\n",
       "      <td>14</td>\n",
       "    </tr>\n",
       "    <tr>\n",
       "      <th>assoc-voc</th>\n",
       "      <td>13</td>\n",
       "    </tr>\n",
       "    <tr>\n",
       "      <th>1st-4th</th>\n",
       "      <td>12</td>\n",
       "    </tr>\n",
       "    <tr>\n",
       "      <th>assoc-acdm</th>\n",
       "      <td>12</td>\n",
       "    </tr>\n",
       "    <tr>\n",
       "      <th>9th</th>\n",
       "      <td>9</td>\n",
       "    </tr>\n",
       "    <tr>\n",
       "      <th>12th</th>\n",
       "      <td>8</td>\n",
       "    </tr>\n",
       "    <tr>\n",
       "      <th>doctorate</th>\n",
       "      <td>7</td>\n",
       "    </tr>\n",
       "    <tr>\n",
       "      <th>preschool</th>\n",
       "      <td>4</td>\n",
       "    </tr>\n",
       "    <tr>\n",
       "      <th>prof-school</th>\n",
       "      <td>3</td>\n",
       "    </tr>\n",
       "    <tr>\n",
       "      <th rowspan=\"16\" valign=\"top\">never-married</th>\n",
       "      <th>hs-grad</th>\n",
       "      <td>3089</td>\n",
       "    </tr>\n",
       "    <tr>\n",
       "      <th>some-college</th>\n",
       "      <td>2933</td>\n",
       "    </tr>\n",
       "    <tr>\n",
       "      <th>bachelors</th>\n",
       "      <td>1795</td>\n",
       "    </tr>\n",
       "    <tr>\n",
       "      <th>11th</th>\n",
       "      <td>586</td>\n",
       "    </tr>\n",
       "    <tr>\n",
       "      <th>masters</th>\n",
       "      <td>404</td>\n",
       "    </tr>\n",
       "    <tr>\n",
       "      <th>assoc-voc</th>\n",
       "      <td>362</td>\n",
       "    </tr>\n",
       "    <tr>\n",
       "      <th>10th</th>\n",
       "      <td>361</td>\n",
       "    </tr>\n",
       "    <tr>\n",
       "      <th>assoc-acdm</th>\n",
       "      <td>337</td>\n",
       "    </tr>\n",
       "    <tr>\n",
       "      <th>12th</th>\n",
       "      <td>232</td>\n",
       "    </tr>\n",
       "    <tr>\n",
       "      <th>9th</th>\n",
       "      <td>155</td>\n",
       "    </tr>\n",
       "    <tr>\n",
       "      <th>7th-8th</th>\n",
       "      <td>113</td>\n",
       "    </tr>\n",
       "    <tr>\n",
       "      <th>prof-school</th>\n",
       "      <td>93</td>\n",
       "    </tr>\n",
       "    <tr>\n",
       "      <th>5th-6th</th>\n",
       "      <td>89</td>\n",
       "    </tr>\n",
       "    <tr>\n",
       "      <th>doctorate</th>\n",
       "      <td>73</td>\n",
       "    </tr>\n",
       "    <tr>\n",
       "      <th>1st-4th</th>\n",
       "      <td>39</td>\n",
       "    </tr>\n",
       "    <tr>\n",
       "      <th>preschool</th>\n",
       "      <td>22</td>\n",
       "    </tr>\n",
       "    <tr>\n",
       "      <th rowspan=\"16\" valign=\"top\">separated</th>\n",
       "      <th>hs-grad</th>\n",
       "      <td>406</td>\n",
       "    </tr>\n",
       "    <tr>\n",
       "      <th>some-college</th>\n",
       "      <td>220</td>\n",
       "    </tr>\n",
       "    <tr>\n",
       "      <th>bachelors</th>\n",
       "      <td>92</td>\n",
       "    </tr>\n",
       "    <tr>\n",
       "      <th>10th</th>\n",
       "      <td>49</td>\n",
       "    </tr>\n",
       "    <tr>\n",
       "      <th>11th</th>\n",
       "      <td>48</td>\n",
       "    </tr>\n",
       "    <tr>\n",
       "      <th>assoc-voc</th>\n",
       "      <td>42</td>\n",
       "    </tr>\n",
       "    <tr>\n",
       "      <th>9th</th>\n",
       "      <td>33</td>\n",
       "    </tr>\n",
       "    <tr>\n",
       "      <th>assoc-acdm</th>\n",
       "      <td>30</td>\n",
       "    </tr>\n",
       "    <tr>\n",
       "      <th>masters</th>\n",
       "      <td>25</td>\n",
       "    </tr>\n",
       "    <tr>\n",
       "      <th>7th-8th</th>\n",
       "      <td>23</td>\n",
       "    </tr>\n",
       "    <tr>\n",
       "      <th>5th-6th</th>\n",
       "      <td>18</td>\n",
       "    </tr>\n",
       "    <tr>\n",
       "      <th>12th</th>\n",
       "      <td>14</td>\n",
       "    </tr>\n",
       "    <tr>\n",
       "      <th>1st-4th</th>\n",
       "      <td>9</td>\n",
       "    </tr>\n",
       "    <tr>\n",
       "      <th>prof-school</th>\n",
       "      <td>8</td>\n",
       "    </tr>\n",
       "    <tr>\n",
       "      <th>doctorate</th>\n",
       "      <td>7</td>\n",
       "    </tr>\n",
       "    <tr>\n",
       "      <th>preschool</th>\n",
       "      <td>1</td>\n",
       "    </tr>\n",
       "    <tr>\n",
       "      <th rowspan=\"16\" valign=\"top\">widowed</th>\n",
       "      <th>hs-grad</th>\n",
       "      <td>414</td>\n",
       "    </tr>\n",
       "    <tr>\n",
       "      <th>some-college</th>\n",
       "      <td>172</td>\n",
       "    </tr>\n",
       "    <tr>\n",
       "      <th>bachelors</th>\n",
       "      <td>82</td>\n",
       "    </tr>\n",
       "    <tr>\n",
       "      <th>7th-8th</th>\n",
       "      <td>64</td>\n",
       "    </tr>\n",
       "    <tr>\n",
       "      <th>assoc-voc</th>\n",
       "      <td>41</td>\n",
       "    </tr>\n",
       "    <tr>\n",
       "      <th>masters</th>\n",
       "      <td>41</td>\n",
       "    </tr>\n",
       "    <tr>\n",
       "      <th>10th</th>\n",
       "      <td>39</td>\n",
       "    </tr>\n",
       "    <tr>\n",
       "      <th>11th</th>\n",
       "      <td>38</td>\n",
       "    </tr>\n",
       "    <tr>\n",
       "      <th>9th</th>\n",
       "      <td>23</td>\n",
       "    </tr>\n",
       "    <tr>\n",
       "      <th>assoc-acdm</th>\n",
       "      <td>23</td>\n",
       "    </tr>\n",
       "    <tr>\n",
       "      <th>1st-4th</th>\n",
       "      <td>17</td>\n",
       "    </tr>\n",
       "    <tr>\n",
       "      <th>5th-6th</th>\n",
       "      <td>14</td>\n",
       "    </tr>\n",
       "    <tr>\n",
       "      <th>12th</th>\n",
       "      <td>10</td>\n",
       "    </tr>\n",
       "    <tr>\n",
       "      <th>doctorate</th>\n",
       "      <td>7</td>\n",
       "    </tr>\n",
       "    <tr>\n",
       "      <th>prof-school</th>\n",
       "      <td>5</td>\n",
       "    </tr>\n",
       "    <tr>\n",
       "      <th>preschool</th>\n",
       "      <td>3</td>\n",
       "    </tr>\n",
       "  </tbody>\n",
       "</table>\n",
       "</div>"
      ],
      "text/plain": [
       "                                    education\n",
       "marital.status        education              \n",
       "married-spouse-absent 11th                 19\n",
       "                      masters              17\n",
       "                      10th                 15\n",
       "                      7th-8th              14\n",
       "                      assoc-voc            13\n",
       "                      1st-4th              12\n",
       "                      assoc-acdm           12\n",
       "                      9th                   9\n",
       "                      12th                  8\n",
       "                      doctorate             7\n",
       "                      preschool             4\n",
       "                      prof-school           3\n",
       "never-married         hs-grad            3089\n",
       "                      some-college       2933\n",
       "                      bachelors          1795\n",
       "                      11th                586\n",
       "                      masters             404\n",
       "                      assoc-voc           362\n",
       "                      10th                361\n",
       "                      assoc-acdm          337\n",
       "                      12th                232\n",
       "                      9th                 155\n",
       "                      7th-8th             113\n",
       "                      prof-school          93\n",
       "                      5th-6th              89\n",
       "                      doctorate            73\n",
       "                      1st-4th              39\n",
       "                      preschool            22\n",
       "separated             hs-grad             406\n",
       "                      some-college        220\n",
       "                      bachelors            92\n",
       "                      10th                 49\n",
       "                      11th                 48\n",
       "                      assoc-voc            42\n",
       "                      9th                  33\n",
       "                      assoc-acdm           30\n",
       "                      masters              25\n",
       "                      7th-8th              23\n",
       "                      5th-6th              18\n",
       "                      12th                 14\n",
       "                      1st-4th               9\n",
       "                      prof-school           8\n",
       "                      doctorate             7\n",
       "                      preschool             1\n",
       "widowed               hs-grad             414\n",
       "                      some-college        172\n",
       "                      bachelors            82\n",
       "                      7th-8th              64\n",
       "                      assoc-voc            41\n",
       "                      masters              41\n",
       "                      10th                 39\n",
       "                      11th                 38\n",
       "                      9th                  23\n",
       "                      assoc-acdm           23\n",
       "                      1st-4th              17\n",
       "                      5th-6th              14\n",
       "                      12th                 10\n",
       "                      doctorate             7\n",
       "                      prof-school           5\n",
       "                      preschool             3"
      ]
     },
     "execution_count": 93,
     "metadata": {},
     "output_type": "execute_result"
    }
   ],
   "source": [
    "df.groupby('marital.status').agg({'education':'value_counts'}).tail(60)"
   ]
  },
  {
   "cell_type": "markdown",
   "metadata": {},
   "source": [
    "## Como a educação varia entre diferentes grupos étnicos (raça)?"
   ]
  },
  {
   "cell_type": "code",
   "execution_count": 94,
   "metadata": {},
   "outputs": [
    {
     "data": {
      "text/html": [
       "<div>\n",
       "<style scoped>\n",
       "    .dataframe tbody tr th:only-of-type {\n",
       "        vertical-align: middle;\n",
       "    }\n",
       "\n",
       "    .dataframe tbody tr th {\n",
       "        vertical-align: top;\n",
       "    }\n",
       "\n",
       "    .dataframe thead th {\n",
       "        text-align: right;\n",
       "    }\n",
       "</style>\n",
       "<table border=\"1\" class=\"dataframe\">\n",
       "  <thead>\n",
       "    <tr style=\"text-align: right;\">\n",
       "      <th></th>\n",
       "      <th></th>\n",
       "      <th>education</th>\n",
       "    </tr>\n",
       "    <tr>\n",
       "      <th>race</th>\n",
       "      <th>education</th>\n",
       "      <th></th>\n",
       "    </tr>\n",
       "  </thead>\n",
       "  <tbody>\n",
       "    <tr>\n",
       "      <th rowspan=\"15\" valign=\"top\">amer-indian-eskimo</th>\n",
       "      <th>hs-grad</th>\n",
       "      <td>119</td>\n",
       "    </tr>\n",
       "    <tr>\n",
       "      <th>some-college</th>\n",
       "      <td>79</td>\n",
       "    </tr>\n",
       "    <tr>\n",
       "      <th>bachelors</th>\n",
       "      <td>21</td>\n",
       "    </tr>\n",
       "    <tr>\n",
       "      <th>assoc-voc</th>\n",
       "      <td>19</td>\n",
       "    </tr>\n",
       "    <tr>\n",
       "      <th>10th</th>\n",
       "      <td>16</td>\n",
       "    </tr>\n",
       "    <tr>\n",
       "      <th>11th</th>\n",
       "      <td>14</td>\n",
       "    </tr>\n",
       "    <tr>\n",
       "      <th>7th-8th</th>\n",
       "      <td>9</td>\n",
       "    </tr>\n",
       "    <tr>\n",
       "      <th>assoc-acdm</th>\n",
       "      <td>8</td>\n",
       "    </tr>\n",
       "    <tr>\n",
       "      <th>9th</th>\n",
       "      <td>5</td>\n",
       "    </tr>\n",
       "    <tr>\n",
       "      <th>12th</th>\n",
       "      <td>5</td>\n",
       "    </tr>\n",
       "    <tr>\n",
       "      <th>masters</th>\n",
       "      <td>5</td>\n",
       "    </tr>\n",
       "    <tr>\n",
       "      <th>1st-4th</th>\n",
       "      <td>4</td>\n",
       "    </tr>\n",
       "    <tr>\n",
       "      <th>doctorate</th>\n",
       "      <td>3</td>\n",
       "    </tr>\n",
       "    <tr>\n",
       "      <th>prof-school</th>\n",
       "      <td>2</td>\n",
       "    </tr>\n",
       "    <tr>\n",
       "      <th>5th-6th</th>\n",
       "      <td>2</td>\n",
       "    </tr>\n",
       "    <tr>\n",
       "      <th rowspan=\"16\" valign=\"top\">asian-pac-islander</th>\n",
       "      <th>bachelors</th>\n",
       "      <td>289</td>\n",
       "    </tr>\n",
       "    <tr>\n",
       "      <th>hs-grad</th>\n",
       "      <td>226</td>\n",
       "    </tr>\n",
       "    <tr>\n",
       "      <th>some-college</th>\n",
       "      <td>208</td>\n",
       "    </tr>\n",
       "    <tr>\n",
       "      <th>masters</th>\n",
       "      <td>88</td>\n",
       "    </tr>\n",
       "    <tr>\n",
       "      <th>prof-school</th>\n",
       "      <td>41</td>\n",
       "    </tr>\n",
       "    <tr>\n",
       "      <th>assoc-voc</th>\n",
       "      <td>38</td>\n",
       "    </tr>\n",
       "    <tr>\n",
       "      <th>assoc-acdm</th>\n",
       "      <td>29</td>\n",
       "    </tr>\n",
       "    <tr>\n",
       "      <th>doctorate</th>\n",
       "      <td>28</td>\n",
       "    </tr>\n",
       "    <tr>\n",
       "      <th>11th</th>\n",
       "      <td>21</td>\n",
       "    </tr>\n",
       "    <tr>\n",
       "      <th>5th-6th</th>\n",
       "      <td>18</td>\n",
       "    </tr>\n",
       "    <tr>\n",
       "      <th>10th</th>\n",
       "      <td>13</td>\n",
       "    </tr>\n",
       "    <tr>\n",
       "      <th>7th-8th</th>\n",
       "      <td>11</td>\n",
       "    </tr>\n",
       "    <tr>\n",
       "      <th>12th</th>\n",
       "      <td>9</td>\n",
       "    </tr>\n",
       "    <tr>\n",
       "      <th>9th</th>\n",
       "      <td>9</td>\n",
       "    </tr>\n",
       "    <tr>\n",
       "      <th>preschool</th>\n",
       "      <td>6</td>\n",
       "    </tr>\n",
       "    <tr>\n",
       "      <th>1st-4th</th>\n",
       "      <td>5</td>\n",
       "    </tr>\n",
       "    <tr>\n",
       "      <th rowspan=\"16\" valign=\"top\">black</th>\n",
       "      <th>hs-grad</th>\n",
       "      <td>1174</td>\n",
       "    </tr>\n",
       "    <tr>\n",
       "      <th>some-college</th>\n",
       "      <td>746</td>\n",
       "    </tr>\n",
       "    <tr>\n",
       "      <th>bachelors</th>\n",
       "      <td>330</td>\n",
       "    </tr>\n",
       "    <tr>\n",
       "      <th>11th</th>\n",
       "      <td>153</td>\n",
       "    </tr>\n",
       "    <tr>\n",
       "      <th>10th</th>\n",
       "      <td>133</td>\n",
       "    </tr>\n",
       "    <tr>\n",
       "      <th>assoc-voc</th>\n",
       "      <td>112</td>\n",
       "    </tr>\n",
       "    <tr>\n",
       "      <th>assoc-acdm</th>\n",
       "      <td>107</td>\n",
       "    </tr>\n",
       "    <tr>\n",
       "      <th>9th</th>\n",
       "      <td>89</td>\n",
       "    </tr>\n",
       "    <tr>\n",
       "      <th>masters</th>\n",
       "      <td>86</td>\n",
       "    </tr>\n",
       "    <tr>\n",
       "      <th>12th</th>\n",
       "      <td>70</td>\n",
       "    </tr>\n",
       "    <tr>\n",
       "      <th>7th-8th</th>\n",
       "      <td>56</td>\n",
       "    </tr>\n",
       "    <tr>\n",
       "      <th>5th-6th</th>\n",
       "      <td>21</td>\n",
       "    </tr>\n",
       "    <tr>\n",
       "      <th>1st-4th</th>\n",
       "      <td>16</td>\n",
       "    </tr>\n",
       "    <tr>\n",
       "      <th>prof-school</th>\n",
       "      <td>15</td>\n",
       "    </tr>\n",
       "    <tr>\n",
       "      <th>doctorate</th>\n",
       "      <td>11</td>\n",
       "    </tr>\n",
       "    <tr>\n",
       "      <th>preschool</th>\n",
       "      <td>5</td>\n",
       "    </tr>\n",
       "    <tr>\n",
       "      <th rowspan=\"13\" valign=\"top\">other</th>\n",
       "      <th>hs-grad</th>\n",
       "      <td>78</td>\n",
       "    </tr>\n",
       "    <tr>\n",
       "      <th>some-college</th>\n",
       "      <td>51</td>\n",
       "    </tr>\n",
       "    <tr>\n",
       "      <th>bachelors</th>\n",
       "      <td>33</td>\n",
       "    </tr>\n",
       "    <tr>\n",
       "      <th>7th-8th</th>\n",
       "      <td>17</td>\n",
       "    </tr>\n",
       "    <tr>\n",
       "      <th>12th</th>\n",
       "      <td>14</td>\n",
       "    </tr>\n",
       "    <tr>\n",
       "      <th>5th-6th</th>\n",
       "      <td>13</td>\n",
       "    </tr>\n",
       "    <tr>\n",
       "      <th>11th</th>\n",
       "      <td>10</td>\n",
       "    </tr>\n",
       "    <tr>\n",
       "      <th>10th</th>\n",
       "      <td>9</td>\n",
       "    </tr>\n",
       "    <tr>\n",
       "      <th>1st-4th</th>\n",
       "      <td>9</td>\n",
       "    </tr>\n",
       "    <tr>\n",
       "      <th>assoc-acdm</th>\n",
       "      <td>8</td>\n",
       "    </tr>\n",
       "    <tr>\n",
       "      <th>9th</th>\n",
       "      <td>8</td>\n",
       "    </tr>\n",
       "    <tr>\n",
       "      <th>masters</th>\n",
       "      <td>7</td>\n",
       "    </tr>\n",
       "    <tr>\n",
       "      <th>assoc-voc</th>\n",
       "      <td>6</td>\n",
       "    </tr>\n",
       "  </tbody>\n",
       "</table>\n",
       "</div>"
      ],
      "text/plain": [
       "                                 education\n",
       "race               education              \n",
       "amer-indian-eskimo hs-grad             119\n",
       "                   some-college         79\n",
       "                   bachelors            21\n",
       "                   assoc-voc            19\n",
       "                   10th                 16\n",
       "                   11th                 14\n",
       "                   7th-8th               9\n",
       "                   assoc-acdm            8\n",
       "                   9th                   5\n",
       "                   12th                  5\n",
       "                   masters               5\n",
       "                   1st-4th               4\n",
       "                   doctorate             3\n",
       "                   prof-school           2\n",
       "                   5th-6th               2\n",
       "asian-pac-islander bachelors           289\n",
       "                   hs-grad             226\n",
       "                   some-college        208\n",
       "                   masters              88\n",
       "                   prof-school          41\n",
       "                   assoc-voc            38\n",
       "                   assoc-acdm           29\n",
       "                   doctorate            28\n",
       "                   11th                 21\n",
       "                   5th-6th              18\n",
       "                   10th                 13\n",
       "                   7th-8th              11\n",
       "                   12th                  9\n",
       "                   9th                   9\n",
       "                   preschool             6\n",
       "                   1st-4th               5\n",
       "black              hs-grad            1174\n",
       "                   some-college        746\n",
       "                   bachelors           330\n",
       "                   11th                153\n",
       "                   10th                133\n",
       "                   assoc-voc           112\n",
       "                   assoc-acdm          107\n",
       "                   9th                  89\n",
       "                   masters              86\n",
       "                   12th                 70\n",
       "                   7th-8th              56\n",
       "                   5th-6th              21\n",
       "                   1st-4th              16\n",
       "                   prof-school          15\n",
       "                   doctorate            11\n",
       "                   preschool             5\n",
       "other              hs-grad              78\n",
       "                   some-college         51\n",
       "                   bachelors            33\n",
       "                   7th-8th              17\n",
       "                   12th                 14\n",
       "                   5th-6th              13\n",
       "                   11th                 10\n",
       "                   10th                  9\n",
       "                   1st-4th               9\n",
       "                   assoc-acdm            8\n",
       "                   9th                   8\n",
       "                   masters               7\n",
       "                   assoc-voc             6"
      ]
     },
     "execution_count": 94,
     "metadata": {},
     "output_type": "execute_result"
    }
   ],
   "source": [
    "df.groupby('race').agg({'education':'value_counts'}).head(60)"
   ]
  },
  {
   "cell_type": "markdown",
   "metadata": {},
   "source": [
    "## Qual é a idade média das pessoas em diferentes grupos étnicos (raça)?"
   ]
  },
  {
   "cell_type": "code",
   "execution_count": 95,
   "metadata": {},
   "outputs": [
    {
     "data": {
      "text/plain": [
       "race\n",
       "amer-indian-eskimo    37.173633\n",
       "asian-pac-islander    37.746872\n",
       "black                 37.767926\n",
       "other                 33.457565\n",
       "white                 38.769881\n",
       "Name: age, dtype: float64"
      ]
     },
     "execution_count": 95,
     "metadata": {},
     "output_type": "execute_result"
    }
   ],
   "source": [
    "df.groupby('race')['age'].mean()"
   ]
  },
  {
   "cell_type": "markdown",
   "metadata": {},
   "source": [
    "## Qual é a distribuição de níveis de educação para diferentes grupos de gênero?"
   ]
  },
  {
   "cell_type": "code",
   "execution_count": 96,
   "metadata": {},
   "outputs": [
    {
     "data": {
      "text/plain": [
       "sex     education   \n",
       "female  hs-grad         3390\n",
       "        some-college    2806\n",
       "        bachelors       1619\n",
       "        masters          536\n",
       "        assoc-voc        500\n",
       "        11th             432\n",
       "        assoc-acdm       421\n",
       "        10th             295\n",
       "        7th-8th          160\n",
       "        9th              144\n",
       "        12th             144\n",
       "        prof-school       92\n",
       "        doctorate         86\n",
       "        5th-6th           84\n",
       "        1st-4th           46\n",
       "        preschool         16\n",
       "male    hs-grad         7111\n",
       "        some-college    4485\n",
       "        bachelors       3736\n",
       "        masters         1187\n",
       "        assoc-voc        882\n",
       "        11th             743\n",
       "        assoc-acdm       646\n",
       "        10th             638\n",
       "        7th-8th          486\n",
       "        prof-school      484\n",
       "        9th              370\n",
       "        doctorate        327\n",
       "        12th             289\n",
       "        5th-6th          249\n",
       "        1st-4th          122\n",
       "        preschool         35\n",
       "Name: count, dtype: int64"
      ]
     },
     "execution_count": 96,
     "metadata": {},
     "output_type": "execute_result"
    }
   ],
   "source": [
    "df.groupby('sex')['education'].value_counts()"
   ]
  },
  {
   "cell_type": "markdown",
   "metadata": {},
   "source": [
    "## As mulheres ganham mais de 50k ou menos de 50k ?"
   ]
  },
  {
   "cell_type": "code",
   "execution_count": 97,
   "metadata": {},
   "outputs": [],
   "source": [
    "df_female = df[df['sex']=='female']"
   ]
  },
  {
   "cell_type": "code",
   "execution_count": 98,
   "metadata": {},
   "outputs": [
    {
     "data": {
      "text/plain": [
       "income\n",
       "<=50k    9592\n",
       ">50k     1179\n",
       "Name: count, dtype: int64"
      ]
     },
     "execution_count": 98,
     "metadata": {},
     "output_type": "execute_result"
    }
   ],
   "source": [
    "df_female['income'].value_counts()"
   ]
  },
  {
   "cell_type": "markdown",
   "metadata": {},
   "source": [
    "## Os homens ganham mais de 50k ou menos de 50k ?"
   ]
  },
  {
   "cell_type": "code",
   "execution_count": 99,
   "metadata": {},
   "outputs": [],
   "source": [
    "df_male = df[df['sex']=='male']"
   ]
  },
  {
   "cell_type": "code",
   "execution_count": 100,
   "metadata": {},
   "outputs": [
    {
     "data": {
      "text/plain": [
       "income\n",
       "<=50k    15128\n",
       ">50k      6662\n",
       "Name: count, dtype: int64"
      ]
     },
     "execution_count": 100,
     "metadata": {},
     "output_type": "execute_result"
    }
   ],
   "source": [
    "df_male['income'].value_counts()"
   ]
  },
  {
   "cell_type": "markdown",
   "metadata": {},
   "source": [
    "df.groupby('native.country').agg({'income':'mean'})"
   ]
  },
  {
   "cell_type": "code",
   "execution_count": 101,
   "metadata": {},
   "outputs": [
    {
     "data": {
      "text/html": [
       "<div>\n",
       "<style scoped>\n",
       "    .dataframe tbody tr th:only-of-type {\n",
       "        vertical-align: middle;\n",
       "    }\n",
       "\n",
       "    .dataframe tbody tr th {\n",
       "        vertical-align: top;\n",
       "    }\n",
       "\n",
       "    .dataframe thead th {\n",
       "        text-align: right;\n",
       "    }\n",
       "</style>\n",
       "<table border=\"1\" class=\"dataframe\">\n",
       "  <thead>\n",
       "    <tr style=\"text-align: right;\">\n",
       "      <th></th>\n",
       "      <th></th>\n",
       "      <th>income</th>\n",
       "    </tr>\n",
       "    <tr>\n",
       "      <th>native.country</th>\n",
       "      <th>income</th>\n",
       "      <th></th>\n",
       "    </tr>\n",
       "  </thead>\n",
       "  <tbody>\n",
       "    <tr>\n",
       "      <th rowspan=\"2\" valign=\"top\">?</th>\n",
       "      <th>&lt;=50k</th>\n",
       "      <td>437</td>\n",
       "    </tr>\n",
       "    <tr>\n",
       "      <th>&gt;50k</th>\n",
       "      <td>146</td>\n",
       "    </tr>\n",
       "    <tr>\n",
       "      <th rowspan=\"2\" valign=\"top\">cambodia</th>\n",
       "      <th>&lt;=50k</th>\n",
       "      <td>12</td>\n",
       "    </tr>\n",
       "    <tr>\n",
       "      <th>&gt;50k</th>\n",
       "      <td>7</td>\n",
       "    </tr>\n",
       "    <tr>\n",
       "      <th rowspan=\"2\" valign=\"top\">canada</th>\n",
       "      <th>&lt;=50k</th>\n",
       "      <td>82</td>\n",
       "    </tr>\n",
       "    <tr>\n",
       "      <th>&gt;50k</th>\n",
       "      <td>39</td>\n",
       "    </tr>\n",
       "    <tr>\n",
       "      <th rowspan=\"2\" valign=\"top\">china</th>\n",
       "      <th>&lt;=50k</th>\n",
       "      <td>55</td>\n",
       "    </tr>\n",
       "    <tr>\n",
       "      <th>&gt;50k</th>\n",
       "      <td>20</td>\n",
       "    </tr>\n",
       "    <tr>\n",
       "      <th rowspan=\"2\" valign=\"top\">columbia</th>\n",
       "      <th>&lt;=50k</th>\n",
       "      <td>57</td>\n",
       "    </tr>\n",
       "    <tr>\n",
       "      <th>&gt;50k</th>\n",
       "      <td>2</td>\n",
       "    </tr>\n",
       "    <tr>\n",
       "      <th rowspan=\"2\" valign=\"top\">cuba</th>\n",
       "      <th>&lt;=50k</th>\n",
       "      <td>70</td>\n",
       "    </tr>\n",
       "    <tr>\n",
       "      <th>&gt;50k</th>\n",
       "      <td>25</td>\n",
       "    </tr>\n",
       "    <tr>\n",
       "      <th rowspan=\"2\" valign=\"top\">dominican-republic</th>\n",
       "      <th>&lt;=50k</th>\n",
       "      <td>68</td>\n",
       "    </tr>\n",
       "    <tr>\n",
       "      <th>&gt;50k</th>\n",
       "      <td>2</td>\n",
       "    </tr>\n",
       "    <tr>\n",
       "      <th rowspan=\"2\" valign=\"top\">ecuador</th>\n",
       "      <th>&lt;=50k</th>\n",
       "      <td>24</td>\n",
       "    </tr>\n",
       "    <tr>\n",
       "      <th>&gt;50k</th>\n",
       "      <td>4</td>\n",
       "    </tr>\n",
       "    <tr>\n",
       "      <th rowspan=\"2\" valign=\"top\">el-salvador</th>\n",
       "      <th>&lt;=50k</th>\n",
       "      <td>97</td>\n",
       "    </tr>\n",
       "    <tr>\n",
       "      <th>&gt;50k</th>\n",
       "      <td>9</td>\n",
       "    </tr>\n",
       "    <tr>\n",
       "      <th rowspan=\"2\" valign=\"top\">england</th>\n",
       "      <th>&lt;=50k</th>\n",
       "      <td>60</td>\n",
       "    </tr>\n",
       "    <tr>\n",
       "      <th>&gt;50k</th>\n",
       "      <td>30</td>\n",
       "    </tr>\n",
       "    <tr>\n",
       "      <th rowspan=\"2\" valign=\"top\">france</th>\n",
       "      <th>&lt;=50k</th>\n",
       "      <td>17</td>\n",
       "    </tr>\n",
       "    <tr>\n",
       "      <th>&gt;50k</th>\n",
       "      <td>12</td>\n",
       "    </tr>\n",
       "    <tr>\n",
       "      <th rowspan=\"2\" valign=\"top\">germany</th>\n",
       "      <th>&lt;=50k</th>\n",
       "      <td>93</td>\n",
       "    </tr>\n",
       "    <tr>\n",
       "      <th>&gt;50k</th>\n",
       "      <td>44</td>\n",
       "    </tr>\n",
       "    <tr>\n",
       "      <th rowspan=\"2\" valign=\"top\">greece</th>\n",
       "      <th>&lt;=50k</th>\n",
       "      <td>21</td>\n",
       "    </tr>\n",
       "    <tr>\n",
       "      <th>&gt;50k</th>\n",
       "      <td>8</td>\n",
       "    </tr>\n",
       "    <tr>\n",
       "      <th rowspan=\"2\" valign=\"top\">guatemala</th>\n",
       "      <th>&lt;=50k</th>\n",
       "      <td>61</td>\n",
       "    </tr>\n",
       "    <tr>\n",
       "      <th>&gt;50k</th>\n",
       "      <td>3</td>\n",
       "    </tr>\n",
       "    <tr>\n",
       "      <th rowspan=\"2\" valign=\"top\">haiti</th>\n",
       "      <th>&lt;=50k</th>\n",
       "      <td>40</td>\n",
       "    </tr>\n",
       "    <tr>\n",
       "      <th>&gt;50k</th>\n",
       "      <td>4</td>\n",
       "    </tr>\n",
       "    <tr>\n",
       "      <th>holand-netherlands</th>\n",
       "      <th>&lt;=50k</th>\n",
       "      <td>1</td>\n",
       "    </tr>\n",
       "    <tr>\n",
       "      <th rowspan=\"2\" valign=\"top\">honduras</th>\n",
       "      <th>&lt;=50k</th>\n",
       "      <td>12</td>\n",
       "    </tr>\n",
       "    <tr>\n",
       "      <th>&gt;50k</th>\n",
       "      <td>1</td>\n",
       "    </tr>\n",
       "    <tr>\n",
       "      <th rowspan=\"2\" valign=\"top\">hong</th>\n",
       "      <th>&lt;=50k</th>\n",
       "      <td>14</td>\n",
       "    </tr>\n",
       "    <tr>\n",
       "      <th>&gt;50k</th>\n",
       "      <td>6</td>\n",
       "    </tr>\n",
       "    <tr>\n",
       "      <th rowspan=\"2\" valign=\"top\">hungary</th>\n",
       "      <th>&lt;=50k</th>\n",
       "      <td>10</td>\n",
       "    </tr>\n",
       "    <tr>\n",
       "      <th>&gt;50k</th>\n",
       "      <td>3</td>\n",
       "    </tr>\n",
       "    <tr>\n",
       "      <th rowspan=\"2\" valign=\"top\">india</th>\n",
       "      <th>&lt;=50k</th>\n",
       "      <td>60</td>\n",
       "    </tr>\n",
       "    <tr>\n",
       "      <th>&gt;50k</th>\n",
       "      <td>40</td>\n",
       "    </tr>\n",
       "    <tr>\n",
       "      <th rowspan=\"2\" valign=\"top\">iran</th>\n",
       "      <th>&lt;=50k</th>\n",
       "      <td>25</td>\n",
       "    </tr>\n",
       "    <tr>\n",
       "      <th>&gt;50k</th>\n",
       "      <td>18</td>\n",
       "    </tr>\n",
       "    <tr>\n",
       "      <th rowspan=\"2\" valign=\"top\">ireland</th>\n",
       "      <th>&lt;=50k</th>\n",
       "      <td>19</td>\n",
       "    </tr>\n",
       "    <tr>\n",
       "      <th>&gt;50k</th>\n",
       "      <td>5</td>\n",
       "    </tr>\n",
       "    <tr>\n",
       "      <th rowspan=\"2\" valign=\"top\">italy</th>\n",
       "      <th>&lt;=50k</th>\n",
       "      <td>48</td>\n",
       "    </tr>\n",
       "    <tr>\n",
       "      <th>&gt;50k</th>\n",
       "      <td>25</td>\n",
       "    </tr>\n",
       "    <tr>\n",
       "      <th rowspan=\"2\" valign=\"top\">jamaica</th>\n",
       "      <th>&lt;=50k</th>\n",
       "      <td>71</td>\n",
       "    </tr>\n",
       "    <tr>\n",
       "      <th>&gt;50k</th>\n",
       "      <td>10</td>\n",
       "    </tr>\n",
       "    <tr>\n",
       "      <th rowspan=\"2\" valign=\"top\">japan</th>\n",
       "      <th>&lt;=50k</th>\n",
       "      <td>38</td>\n",
       "    </tr>\n",
       "    <tr>\n",
       "      <th>&gt;50k</th>\n",
       "      <td>24</td>\n",
       "    </tr>\n",
       "    <tr>\n",
       "      <th rowspan=\"2\" valign=\"top\">laos</th>\n",
       "      <th>&lt;=50k</th>\n",
       "      <td>16</td>\n",
       "    </tr>\n",
       "    <tr>\n",
       "      <th>&gt;50k</th>\n",
       "      <td>2</td>\n",
       "    </tr>\n",
       "    <tr>\n",
       "      <th rowspan=\"2\" valign=\"top\">mexico</th>\n",
       "      <th>&lt;=50k</th>\n",
       "      <td>610</td>\n",
       "    </tr>\n",
       "    <tr>\n",
       "      <th>&gt;50k</th>\n",
       "      <td>33</td>\n",
       "    </tr>\n",
       "    <tr>\n",
       "      <th rowspan=\"2\" valign=\"top\">nicaragua</th>\n",
       "      <th>&lt;=50k</th>\n",
       "      <td>32</td>\n",
       "    </tr>\n",
       "    <tr>\n",
       "      <th>&gt;50k</th>\n",
       "      <td>2</td>\n",
       "    </tr>\n",
       "    <tr>\n",
       "      <th>outlying-us(guam-usvi-etc)</th>\n",
       "      <th>&lt;=50k</th>\n",
       "      <td>14</td>\n",
       "    </tr>\n",
       "    <tr>\n",
       "      <th rowspan=\"2\" valign=\"top\">peru</th>\n",
       "      <th>&lt;=50k</th>\n",
       "      <td>29</td>\n",
       "    </tr>\n",
       "    <tr>\n",
       "      <th>&gt;50k</th>\n",
       "      <td>2</td>\n",
       "    </tr>\n",
       "    <tr>\n",
       "      <th rowspan=\"2\" valign=\"top\">philippines</th>\n",
       "      <th>&lt;=50k</th>\n",
       "      <td>137</td>\n",
       "    </tr>\n",
       "    <tr>\n",
       "      <th>&gt;50k</th>\n",
       "      <td>61</td>\n",
       "    </tr>\n",
       "  </tbody>\n",
       "</table>\n",
       "</div>"
      ],
      "text/plain": [
       "                                   income\n",
       "native.country             income        \n",
       "?                          <=50k      437\n",
       "                           >50k       146\n",
       "cambodia                   <=50k       12\n",
       "                           >50k         7\n",
       "canada                     <=50k       82\n",
       "                           >50k        39\n",
       "china                      <=50k       55\n",
       "                           >50k        20\n",
       "columbia                   <=50k       57\n",
       "                           >50k         2\n",
       "cuba                       <=50k       70\n",
       "                           >50k        25\n",
       "dominican-republic         <=50k       68\n",
       "                           >50k         2\n",
       "ecuador                    <=50k       24\n",
       "                           >50k         4\n",
       "el-salvador                <=50k       97\n",
       "                           >50k         9\n",
       "england                    <=50k       60\n",
       "                           >50k        30\n",
       "france                     <=50k       17\n",
       "                           >50k        12\n",
       "germany                    <=50k       93\n",
       "                           >50k        44\n",
       "greece                     <=50k       21\n",
       "                           >50k         8\n",
       "guatemala                  <=50k       61\n",
       "                           >50k         3\n",
       "haiti                      <=50k       40\n",
       "                           >50k         4\n",
       "holand-netherlands         <=50k        1\n",
       "honduras                   <=50k       12\n",
       "                           >50k         1\n",
       "hong                       <=50k       14\n",
       "                           >50k         6\n",
       "hungary                    <=50k       10\n",
       "                           >50k         3\n",
       "india                      <=50k       60\n",
       "                           >50k        40\n",
       "iran                       <=50k       25\n",
       "                           >50k        18\n",
       "ireland                    <=50k       19\n",
       "                           >50k         5\n",
       "italy                      <=50k       48\n",
       "                           >50k        25\n",
       "jamaica                    <=50k       71\n",
       "                           >50k        10\n",
       "japan                      <=50k       38\n",
       "                           >50k        24\n",
       "laos                       <=50k       16\n",
       "                           >50k         2\n",
       "mexico                     <=50k      610\n",
       "                           >50k        33\n",
       "nicaragua                  <=50k       32\n",
       "                           >50k         2\n",
       "outlying-us(guam-usvi-etc) <=50k       14\n",
       "peru                       <=50k       29\n",
       "                           >50k         2\n",
       "philippines                <=50k      137\n",
       "                           >50k        61"
      ]
     },
     "execution_count": 101,
     "metadata": {},
     "output_type": "execute_result"
    }
   ],
   "source": [
    "df.groupby('native.country').agg({'income':'value_counts'}).head(60)"
   ]
  },
  {
   "cell_type": "markdown",
   "metadata": {},
   "source": [
    "## Conclusão:\n",
    "\n",
    "Por fim podemos concluir que há uma alta taxa de divorciados nos EUA, que pessoas brancas são as que mais se divorciam e em relação ao sexo, as mulheres se divorciam mais que os homens em torno de 60% e os homens 40%. A média de idade dos divorciados está na casa dos 43 anos e que a maior parte das pessoas que são divorciadas tem apenas o segundo grau completo. \n",
    "Em relação às pessoas que nunca casaram, pessoas brancas estão no topo da lista com pessoas negras em segundo lugar. Mulheres negras não se casam mais que os homens, e as mulheres no geral tem a maior quantidade de viúvas. A quantidade de pessoas viúvas pela base está maior nos EUA e a maioria dessas pessoas têm no máximo o segundo grau completo.\n",
    "Em relação aos grupos étnicos pessoas negras tem mais diplomas de ensino superior do que pessoas asiáticas.\n",
    "Em relação a média idade da base pessoas negras, asiáticas tem em média 37 anos enquanto pessoas brancas 38 anos.\n",
    "Ao todo homens tem mais diplomas do ensino superior e segundo grau do que mulheres e em relação aos ganhos mulheres e homens em maior quantidade ganham mais ou igual a 50k.\n"
   ]
  }
 ],
 "metadata": {
  "kernelspec": {
   "display_name": "meuambiente",
   "language": "python",
   "name": "python3"
  },
  "language_info": {
   "codemirror_mode": {
    "name": "ipython",
    "version": 3
   },
   "file_extension": ".py",
   "mimetype": "text/x-python",
   "name": "python",
   "nbconvert_exporter": "python",
   "pygments_lexer": "ipython3",
   "version": "3.9.18"
  }
 },
 "nbformat": 4,
 "nbformat_minor": 2
}
